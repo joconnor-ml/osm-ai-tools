{
 "nbformat": 4,
 "nbformat_minor": 0,
 "metadata": {
  "kernelspec": {
   "display_name": "Python 3",
   "language": "python",
   "name": "python3"
  },
  "language_info": {
   "codemirror_mode": {
    "name": "ipython",
    "version": 3
   },
   "file_extension": ".py",
   "mimetype": "text/x-python",
   "name": "python",
   "nbconvert_exporter": "python",
   "pygments_lexer": "ipython3",
   "version": "3.8.5"
  },
  "colab": {
   "name": "Classification.ipynb",
   "provenance": []
  },
  "widgets": {
   "application/vnd.jupyter.widget-state+json": {
    "d6ff37f2a7c04fda96ddebf22c0f5f60": {
     "model_module": "@jupyter-widgets/controls",
     "model_name": "HTMLModel",
     "state": {
      "_view_name": "HTMLView",
      "style": "IPY_MODEL_eed8d20cb4fd4ae1bbf8d23ef413b79d",
      "_dom_classes": [],
      "description": "",
      "_model_name": "HTMLModel",
      "placeholder": "​",
      "_view_module": "@jupyter-widgets/controls",
      "_model_module_version": "1.5.0",
      "value": "502 examples annotated, 0 examples left",
      "_view_count": null,
      "_view_module_version": "1.5.0",
      "description_tooltip": null,
      "_model_module": "@jupyter-widgets/controls",
      "layout": "IPY_MODEL_4f1d322056a941788ce26c4ca168d9d5"
     }
    },
    "eed8d20cb4fd4ae1bbf8d23ef413b79d": {
     "model_module": "@jupyter-widgets/controls",
     "model_name": "DescriptionStyleModel",
     "state": {
      "_view_name": "StyleView",
      "_model_name": "DescriptionStyleModel",
      "description_width": "",
      "_view_module": "@jupyter-widgets/base",
      "_model_module_version": "1.5.0",
      "_view_count": null,
      "_view_module_version": "1.2.0",
      "_model_module": "@jupyter-widgets/controls"
     }
    },
    "4f1d322056a941788ce26c4ca168d9d5": {
     "model_module": "@jupyter-widgets/base",
     "model_name": "LayoutModel",
     "state": {
      "_view_name": "LayoutView",
      "grid_template_rows": null,
      "right": null,
      "justify_content": null,
      "_view_module": "@jupyter-widgets/base",
      "overflow": null,
      "_model_module_version": "1.2.0",
      "_view_count": null,
      "flex_flow": null,
      "width": null,
      "min_width": null,
      "border": null,
      "align_items": null,
      "bottom": null,
      "_model_module": "@jupyter-widgets/base",
      "top": null,
      "grid_column": null,
      "overflow_y": null,
      "overflow_x": null,
      "grid_auto_flow": null,
      "grid_area": null,
      "grid_template_columns": null,
      "flex": null,
      "_model_name": "LayoutModel",
      "justify_items": null,
      "grid_row": null,
      "max_height": null,
      "align_content": null,
      "visibility": null,
      "align_self": null,
      "height": null,
      "min_height": null,
      "padding": null,
      "grid_auto_rows": null,
      "grid_gap": null,
      "max_width": null,
      "order": null,
      "_view_module_version": "1.2.0",
      "grid_template_areas": null,
      "object_position": null,
      "object_fit": null,
      "grid_auto_columns": null,
      "margin": null,
      "display": null,
      "left": null
     }
    },
    "9bafe669bd4d49e7acdb468bef3165ee": {
     "model_module": "@jupyter-widgets/controls",
     "model_name": "HBoxModel",
     "state": {
      "_view_name": "HBoxView",
      "_dom_classes": [],
      "_model_name": "HBoxModel",
      "_view_module": "@jupyter-widgets/controls",
      "_model_module_version": "1.5.0",
      "_view_count": null,
      "_view_module_version": "1.5.0",
      "box_style": "",
      "layout": "IPY_MODEL_b62ad8cc0e174b138ef1568c541bba64",
      "_model_module": "@jupyter-widgets/controls",
      "children": [
       "IPY_MODEL_9a03b07932684a798182bedccf7f30b8",
       "IPY_MODEL_491b5bbb329541848dd43c22f37d30a2",
       "IPY_MODEL_69747a2f444d478c84bb6b18ad246468"
      ]
     }
    },
    "b62ad8cc0e174b138ef1568c541bba64": {
     "model_module": "@jupyter-widgets/base",
     "model_name": "LayoutModel",
     "state": {
      "_view_name": "LayoutView",
      "grid_template_rows": null,
      "right": null,
      "justify_content": null,
      "_view_module": "@jupyter-widgets/base",
      "overflow": null,
      "_model_module_version": "1.2.0",
      "_view_count": null,
      "flex_flow": null,
      "width": null,
      "min_width": null,
      "border": null,
      "align_items": null,
      "bottom": null,
      "_model_module": "@jupyter-widgets/base",
      "top": null,
      "grid_column": null,
      "overflow_y": null,
      "overflow_x": null,
      "grid_auto_flow": null,
      "grid_area": null,
      "grid_template_columns": null,
      "flex": null,
      "_model_name": "LayoutModel",
      "justify_items": null,
      "grid_row": null,
      "max_height": null,
      "align_content": null,
      "visibility": null,
      "align_self": null,
      "height": null,
      "min_height": null,
      "padding": null,
      "grid_auto_rows": null,
      "grid_gap": null,
      "max_width": null,
      "order": null,
      "_view_module_version": "1.2.0",
      "grid_template_areas": null,
      "object_position": null,
      "object_fit": null,
      "grid_auto_columns": null,
      "margin": null,
      "display": null,
      "left": null
     }
    },
    "9a03b07932684a798182bedccf7f30b8": {
     "model_module": "@jupyter-widgets/controls",
     "model_name": "ButtonModel",
     "state": {
      "_view_name": "ButtonView",
      "style": "IPY_MODEL_ed781c0f48f8408692929977ef889a5f",
      "_dom_classes": [],
      "description": "cooling_tower",
      "_model_name": "ButtonModel",
      "button_style": "",
      "_view_module": "@jupyter-widgets/controls",
      "_model_module_version": "1.5.0",
      "tooltip": "",
      "_view_count": null,
      "disabled": true,
      "_view_module_version": "1.5.0",
      "layout": "IPY_MODEL_4d9aadc22b01434ca87b01d33f2310f4",
      "_model_module": "@jupyter-widgets/controls",
      "icon": ""
     }
    },
    "491b5bbb329541848dd43c22f37d30a2": {
     "model_module": "@jupyter-widgets/controls",
     "model_name": "ButtonModel",
     "state": {
      "_view_name": "ButtonView",
      "style": "IPY_MODEL_0416d9e578954407b6142c765a6fd402",
      "_dom_classes": [],
      "description": "not_cooling_tower",
      "_model_name": "ButtonModel",
      "button_style": "",
      "_view_module": "@jupyter-widgets/controls",
      "_model_module_version": "1.5.0",
      "tooltip": "",
      "_view_count": null,
      "disabled": true,
      "_view_module_version": "1.5.0",
      "layout": "IPY_MODEL_008adf848bc944b48f82f822a8543095",
      "_model_module": "@jupyter-widgets/controls",
      "icon": ""
     }
    },
    "69747a2f444d478c84bb6b18ad246468": {
     "model_module": "@jupyter-widgets/controls",
     "model_name": "ButtonModel",
     "state": {
      "_view_name": "ButtonView",
      "style": "IPY_MODEL_029f4e1f368a409bb8b1fc53769af4ef",
      "_dom_classes": [],
      "description": "skip",
      "_model_name": "ButtonModel",
      "button_style": "",
      "_view_module": "@jupyter-widgets/controls",
      "_model_module_version": "1.5.0",
      "tooltip": "",
      "_view_count": null,
      "disabled": true,
      "_view_module_version": "1.5.0",
      "layout": "IPY_MODEL_5d27f2078a4a4a1ba2ff262057f8a70f",
      "_model_module": "@jupyter-widgets/controls",
      "icon": ""
     }
    },
    "ed781c0f48f8408692929977ef889a5f": {
     "model_module": "@jupyter-widgets/controls",
     "model_name": "ButtonStyleModel",
     "state": {
      "_view_name": "StyleView",
      "_model_name": "ButtonStyleModel",
      "_view_module": "@jupyter-widgets/base",
      "_model_module_version": "1.5.0",
      "_view_count": null,
      "button_color": null,
      "font_weight": "",
      "_view_module_version": "1.2.0",
      "_model_module": "@jupyter-widgets/controls"
     }
    },
    "4d9aadc22b01434ca87b01d33f2310f4": {
     "model_module": "@jupyter-widgets/base",
     "model_name": "LayoutModel",
     "state": {
      "_view_name": "LayoutView",
      "grid_template_rows": null,
      "right": null,
      "justify_content": null,
      "_view_module": "@jupyter-widgets/base",
      "overflow": null,
      "_model_module_version": "1.2.0",
      "_view_count": null,
      "flex_flow": null,
      "width": null,
      "min_width": null,
      "border": null,
      "align_items": null,
      "bottom": null,
      "_model_module": "@jupyter-widgets/base",
      "top": null,
      "grid_column": null,
      "overflow_y": null,
      "overflow_x": null,
      "grid_auto_flow": null,
      "grid_area": null,
      "grid_template_columns": null,
      "flex": null,
      "_model_name": "LayoutModel",
      "justify_items": null,
      "grid_row": null,
      "max_height": null,
      "align_content": null,
      "visibility": null,
      "align_self": null,
      "height": null,
      "min_height": null,
      "padding": null,
      "grid_auto_rows": null,
      "grid_gap": null,
      "max_width": null,
      "order": null,
      "_view_module_version": "1.2.0",
      "grid_template_areas": null,
      "object_position": null,
      "object_fit": null,
      "grid_auto_columns": null,
      "margin": null,
      "display": null,
      "left": null
     }
    },
    "0416d9e578954407b6142c765a6fd402": {
     "model_module": "@jupyter-widgets/controls",
     "model_name": "ButtonStyleModel",
     "state": {
      "_view_name": "StyleView",
      "_model_name": "ButtonStyleModel",
      "_view_module": "@jupyter-widgets/base",
      "_model_module_version": "1.5.0",
      "_view_count": null,
      "button_color": null,
      "font_weight": "",
      "_view_module_version": "1.2.0",
      "_model_module": "@jupyter-widgets/controls"
     }
    },
    "008adf848bc944b48f82f822a8543095": {
     "model_module": "@jupyter-widgets/base",
     "model_name": "LayoutModel",
     "state": {
      "_view_name": "LayoutView",
      "grid_template_rows": null,
      "right": null,
      "justify_content": null,
      "_view_module": "@jupyter-widgets/base",
      "overflow": null,
      "_model_module_version": "1.2.0",
      "_view_count": null,
      "flex_flow": null,
      "width": null,
      "min_width": null,
      "border": null,
      "align_items": null,
      "bottom": null,
      "_model_module": "@jupyter-widgets/base",
      "top": null,
      "grid_column": null,
      "overflow_y": null,
      "overflow_x": null,
      "grid_auto_flow": null,
      "grid_area": null,
      "grid_template_columns": null,
      "flex": null,
      "_model_name": "LayoutModel",
      "justify_items": null,
      "grid_row": null,
      "max_height": null,
      "align_content": null,
      "visibility": null,
      "align_self": null,
      "height": null,
      "min_height": null,
      "padding": null,
      "grid_auto_rows": null,
      "grid_gap": null,
      "max_width": null,
      "order": null,
      "_view_module_version": "1.2.0",
      "grid_template_areas": null,
      "object_position": null,
      "object_fit": null,
      "grid_auto_columns": null,
      "margin": null,
      "display": null,
      "left": null
     }
    },
    "029f4e1f368a409bb8b1fc53769af4ef": {
     "model_module": "@jupyter-widgets/controls",
     "model_name": "ButtonStyleModel",
     "state": {
      "_view_name": "StyleView",
      "_model_name": "ButtonStyleModel",
      "_view_module": "@jupyter-widgets/base",
      "_model_module_version": "1.5.0",
      "_view_count": null,
      "button_color": null,
      "font_weight": "",
      "_view_module_version": "1.2.0",
      "_model_module": "@jupyter-widgets/controls"
     }
    },
    "5d27f2078a4a4a1ba2ff262057f8a70f": {
     "model_module": "@jupyter-widgets/base",
     "model_name": "LayoutModel",
     "state": {
      "_view_name": "LayoutView",
      "grid_template_rows": null,
      "right": null,
      "justify_content": null,
      "_view_module": "@jupyter-widgets/base",
      "overflow": null,
      "_model_module_version": "1.2.0",
      "_view_count": null,
      "flex_flow": null,
      "width": null,
      "min_width": null,
      "border": null,
      "align_items": null,
      "bottom": null,
      "_model_module": "@jupyter-widgets/base",
      "top": null,
      "grid_column": null,
      "overflow_y": null,
      "overflow_x": null,
      "grid_auto_flow": null,
      "grid_area": null,
      "grid_template_columns": null,
      "flex": null,
      "_model_name": "LayoutModel",
      "justify_items": null,
      "grid_row": null,
      "max_height": null,
      "align_content": null,
      "visibility": null,
      "align_self": null,
      "height": null,
      "min_height": null,
      "padding": null,
      "grid_auto_rows": null,
      "grid_gap": null,
      "max_width": null,
      "order": null,
      "_view_module_version": "1.2.0",
      "grid_template_areas": null,
      "object_position": null,
      "object_fit": null,
      "grid_auto_columns": null,
      "margin": null,
      "display": null,
      "left": null
     }
    },
    "5255d9fe80844b3fae582b69adbd9e75": {
     "model_module": "@jupyter-widgets/output",
     "model_name": "OutputModel",
     "state": {
      "_view_name": "OutputView",
      "msg_id": "",
      "_dom_classes": [],
      "_model_name": "OutputModel",
      "outputs": [
       {
        "output_type": "display_data",
        "metadata": {
         "tags": [],
         "needs_background": "light"
        },
        "image/png": "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\n",
        "text/plain": "<Figure size 432x288 with 1 Axes>"
       }
      ],
      "_view_module": "@jupyter-widgets/output",
      "_model_module_version": "1.0.0",
      "_view_count": null,
      "_view_module_version": "1.0.0",
      "layout": "IPY_MODEL_b0f9607ad37e4e7b88bf281a0d348d06",
      "_model_module": "@jupyter-widgets/output"
     }
    },
    "b0f9607ad37e4e7b88bf281a0d348d06": {
     "model_module": "@jupyter-widgets/base",
     "model_name": "LayoutModel",
     "state": {
      "_view_name": "LayoutView",
      "grid_template_rows": null,
      "right": null,
      "justify_content": null,
      "_view_module": "@jupyter-widgets/base",
      "overflow": null,
      "_model_module_version": "1.2.0",
      "_view_count": null,
      "flex_flow": null,
      "width": null,
      "min_width": null,
      "border": null,
      "align_items": null,
      "bottom": null,
      "_model_module": "@jupyter-widgets/base",
      "top": null,
      "grid_column": null,
      "overflow_y": null,
      "overflow_x": null,
      "grid_auto_flow": null,
      "grid_area": null,
      "grid_template_columns": null,
      "flex": null,
      "_model_name": "LayoutModel",
      "justify_items": null,
      "grid_row": null,
      "max_height": null,
      "align_content": null,
      "visibility": null,
      "align_self": null,
      "height": null,
      "min_height": null,
      "padding": null,
      "grid_auto_rows": null,
      "grid_gap": null,
      "max_width": null,
      "order": null,
      "_view_module_version": "1.2.0",
      "grid_template_areas": null,
      "object_position": null,
      "object_fit": null,
      "grid_auto_columns": null,
      "margin": null,
      "display": null,
      "left": null
     }
    }
   }
  }
 },
 "cells": [
  {
   "cell_type": "markdown",
   "metadata": {
    "collapsed": false,
    "pycharm": {
     "name": "#%% md\n"
    },
    "id": "8H69OKXZVOYJ"
   },
   "source": [
    "[![Open In Colab](https://colab.research.google.com/assets/colab-badge.svg)](https://colab.research.google.com/github/joconnor-ml/osm-ai-tools/blob/master/examples/chimneys/tag_classification.ipynb)"
   ]
  },
  {
   "cell_type": "code",
   "metadata": {
    "colab": {
     "base_uri": "https://localhost:8080/"
    },
    "id": "eaX34ycsVOYR",
    "outputId": "807884a4-e509-4243-bb03-32ba4f65fe1e"
   },
   "source": [
    "#@title Authenticate, Import, Download Data\n",
    "\n",
    "from google.colab import auth\n",
    "auth.authenticate_user()\n",
    "\n",
    "!pip install -q fsspec gcsfs\n",
    "\n",
    "import tensorflow as tf\n",
    "import numpy as np\n",
    "import pandas as pd\n",
    "import matplotlib.pyplot as plt\n",
    "\n",
    "import os\n",
    "import math\n",
    "\n",
    "# This is the data generated by `data_pipeline.sh` locally and pushed as-is to GCS.\n",
    "# You'll have to replace this with your own GCS bucket\n",
    "\n",
    "!mkdir data\n",
    "!gsutil -m rsync -rd gs://osm-object-detector/data/chimneys ./data\n",
    "!mkdir pretrained_models\n",
    "!gsutil -m rsync -rd gs://osm-object-detector/pretrained_models ./pretrained_models"
   ],
   "execution_count": null,
   "outputs": []
  },
  {
   "cell_type": "code",
   "metadata": {
    "colab": {
     "base_uri": "https://localhost:8080/",
     "height": 204
    },
    "id": "y_MfTAangUak",
    "outputId": "dbd56537-e037-479d-8ad9-2a16b6ae43e4"
   },
   "source": [
    "patches = pd.read_csv(\"data/bboxes.csv\")\n",
    "patches.head()"
   ],
   "execution_count": null,
   "outputs": []
  },
  {
   "cell_type": "code",
   "metadata": {
    "colab": {
     "base_uri": "https://localhost:8080/",
     "height": 405
    },
    "id": "Rk4c2vcHfDd3",
    "outputId": "95713fb3-360e-4ba0-edcc-00a536c93c0f"
   },
   "source": [
    "def get_base_dataset(image_dir, patches):\n",
    "    image_patches = []\n",
    "    patch_ids = []\n",
    "    for image_id, grp in patches.groupby(\"image_id\"):\n",
    "        image_patches.append(grp[[\"y_min\", \"x_min\", \"y_max\", \"x_max\"]].values)\n",
    "        patch_ids.append(grp[\"osm_id\"].values)\n",
    "\n",
    "    def patch_gen():\n",
    "        for coords in image_patches:\n",
    "            yield coords\n",
    "\n",
    "    def patch_id_gen():\n",
    "        for i in patch_ids:\n",
    "            yield i\n",
    "\n",
    "    filename_dataset = tf.data.Dataset.from_tensor_slices(image_dir + \"/\" + patches[\"image_id\"].unique() + \".png\")\n",
    "    images = filename_dataset.map(lambda x: tf.io.decode_png(tf.io.read_file(x)))\n",
    "    bboxes = tf.data.Dataset.from_generator(patch_gen, output_types=tf.float32)\n",
    "    bbox_ids = tf.data.Dataset.from_generator(patch_id_gen, output_types=tf.int32)\n",
    "    return tf.data.Dataset.zip((images, bboxes, bbox_ids))\n",
    "\n",
    "images_and_bboxes = get_base_dataset('data/images', patches)\n",
    "for img, bbox, bbox_id in images_and_bboxes.take(1):\n",
    "    break\n",
    "plt.imshow(img)\n",
    "bbox.numpy(), bbox_id.numpy()"
   ],
   "execution_count": null,
   "outputs": []
  },
  {
   "cell_type": "code",
   "metadata": {
    "id": "N1U49ICKo1BM"
   },
   "source": [
    "# for balancing positives and negatives:\n",
    "bboxes_per_image = patches.shape[0] / patches[\"image_id\"].nunique()\n",
    "bboxes_per_image"
   ],
   "execution_count": null,
   "outputs": []
  },
  {
   "cell_type": "code",
   "metadata": {
    "id": "d095IRG8VOYW"
   },
   "source": [
    "IMAGE_SIZE = 224\n",
    "\n",
    "def get_final_dataset(images_and_bboxes):\n",
    "    # generate positives -- grab crops for each bbox\n",
    "    def sample_positives(img, bboxes, bbox_ids):\n",
    "        crops = tf.image.crop_and_resize(\n",
    "            tf.expand_dims(img, axis=0), bboxes, box_indices=tf.zeros_like(bboxes[:, 0], dtype=tf.int32),\n",
    "            crop_size=[IMAGE_SIZE, IMAGE_SIZE], method='bilinear',\n",
    "            extrapolation_value=127, name=None\n",
    "        )\n",
    "        return tf.data.Dataset.zip((\n",
    "            tf.data.Dataset.from_tensor_slices(crops),\n",
    "            tf.data.Dataset.from_tensor_slices(bbox_ids),\n",
    "            tf.data.Dataset.from_tensor_slices([1]).repeat(-1),\n",
    "        ))\n",
    "\n",
    "    # use random crops for \"negatives\" -- as long as image size >> object size, this should be OK\n",
    "    def sample_negatives(img, boxes, cls):\n",
    "        return {\"image\": tf.cast(tf.image.random_crop(img, size=[IMAGE_SIZE, IMAGE_SIZE, 3]), np.float32), \"bbox_id\": -1, \"label\": 0}\n",
    "\n",
    "    positives = images_and_bboxes.flat_map(sample_positives).map(lambda img, box_id, cls: {\"image\": img, \"bbox_id\": box_id, \"label\": cls})\n",
    "    # use `repeat` to balance the data\n",
    "    negatives = images_and_bboxes.repeat(round(bboxes_per_image)).map(sample_negatives)\n",
    "    final_dataset = tf.data.experimental.sample_from_datasets([positives, negatives])\n",
    "    return final_dataset"
   ],
   "execution_count": null,
   "outputs": []
  },
  {
   "cell_type": "code",
   "metadata": {
    "colab": {
     "base_uri": "https://localhost:8080/",
     "height": 809
    },
    "id": "KZ75n1vQVOYW",
    "outputId": "de4d161b-92f4-4a38-b87b-deb94b945c47"
   },
   "source": [
    "final_dataset = get_final_dataset(images_and_bboxes)\n",
    "for row in final_dataset.take(3):\n",
    "    plt.imshow((row[\"image\"].numpy()).astype(np.uint8))\n",
    "    plt.title(f\"{row['bbox_id']}, {row['label']}\")\n",
    "    plt.show()\n"
   ],
   "execution_count": null,
   "outputs": []
  },
  {
   "cell_type": "code",
   "metadata": {
    "colab": {
     "base_uri": "https://localhost:8080/"
    },
    "id": "mNbAWGu2VOYX",
    "outputId": "e03fb10e-2482-4a31-8fbd-3523e835ad3f"
   },
   "source": [
    "# get size of dataset -- since we changed the number of rows dynamically we have to count them in full\n",
    "# TODO: we probably can work it out and avoid this slowness\n",
    "for i, _ in enumerate(final_dataset.take(-1)):\n",
    "    pass\n",
    "num_samples = i+1\n",
    "num_samples"
   ],
   "execution_count": null,
   "outputs": []
  },
  {
   "cell_type": "code",
   "metadata": {
    "id": "xOSjA4rCVOYY"
   },
   "source": [
    "BATCH_SIZE = 128\n",
    "half_the_data = int(num_samples/2)\n",
    "train_ds = final_dataset.take(half_the_data)\n",
    "val_ds = final_dataset.skip(half_the_data)"
   ],
   "execution_count": null,
   "outputs": []
  },
  {
   "cell_type": "code",
   "metadata": {
    "id": "yMa5cMx3rzw4"
   },
   "source": [
    "def to_tuple(row):\n",
    "    return row[\"image\"], row[\"label\"]\n",
    "\n",
    "def get_model():\n",
    "    module = tf.keras.models.load_model(os.path.join(\"pretrained_models\", \"resisc_224px_rgb_resnet50\"))\n",
    "    module.trainable = True\n",
    "    module.summary()\n",
    "\n",
    "    images = tf.keras.layers.Input((IMAGE_SIZE, IMAGE_SIZE, 3))\n",
    "    data_augmentation = tf.keras.Sequential([\n",
    "        tf.keras.layers.experimental.preprocessing.RandomFlip(\"horizontal_and_vertical\"),\n",
    "        tf.keras.layers.experimental.preprocessing.RandomContrast(0.1),\n",
    "        tf.keras.layers.experimental.preprocessing.Resizing(256,256),\n",
    "        tf.keras.layers.experimental.preprocessing.RandomTranslation(0.2, 0.2),\n",
    "        tf.keras.layers.experimental.preprocessing.RandomRotation(2*math.pi),\n",
    "        tf.keras.layers.experimental.preprocessing.RandomZoom(0.25),\n",
    "        tf.keras.layers.experimental.preprocessing.CenterCrop(224,224),\n",
    "    ])\n",
    "    features = module(data_augmentation(images))\n",
    "    features = tf.keras.layers.GlobalAveragePooling2D()(features)\n",
    "    features = tf.keras.layers.Dropout(0.5)(features)\n",
    "    output = tf.keras.layers.Dense(1, activation=\"sigmoid\")(features)\n",
    "    model = tf.keras.Model(inputs=images, outputs=output)\n",
    "\n",
    "    lr = 0.003 * BATCH_SIZE / 512\n",
    "\n",
    "    # Decay learning rate by a factor of 10 at SCHEDULE_BOUNDARIES.\n",
    "    lr_schedule = tf.keras.optimizers.schedules.PiecewiseConstantDecay(\n",
    "        boundaries=[int(50*BATCH_SIZE/512), int(75*BATCH_SIZE/512), int(100*BATCH_SIZE/512)],\n",
    "        values=[lr, lr*0.1, lr*0.001, lr*0.0001]\n",
    "    )\n",
    "    optimizer = tf.keras.optimizers.SGD(learning_rate=lr_schedule, momentum=0.9)\n",
    "\n",
    "    model.compile(\n",
    "      optimizer=optimizer,\n",
    "      # use label smoothing since we know quite a few labels will be wrong\n",
    "      loss=tf.keras.losses.BinaryCrossentropy(label_smoothing=0.01),\n",
    "      metrics=['acc']\n",
    "    )\n",
    "    return model\n"
   ],
   "execution_count": null,
   "outputs": []
  },
  {
   "cell_type": "code",
   "metadata": {
    "colab": {
     "base_uri": "https://localhost:8080/"
    },
    "id": "XrfB2lGoVOYY",
    "outputId": "ad289b74-895e-4b54-b8c7-1f903d367b9d"
   },
   "source": [
    "model = get_model()\n",
    "model.fit(train_ds.map(to_tuple).shuffle(500).batch(BATCH_SIZE).prefetch(2), validation_data=val_ds.map(to_tuple).batch(BATCH_SIZE).prefetch(2), epochs=10)"
   ],
   "execution_count": null,
   "outputs": []
  },
  {
   "cell_type": "code",
   "metadata": {
    "id": "-TDzwc3_uoIk"
   },
   "source": [
    "pred_df = []\n",
    "for row in val_ds.take(-1):\n",
    "  if row[\"label\"].numpy() == 0:\n",
    "    continue\n",
    "  pred = model.predict(tf.expand_dims(row[\"image\"], axis=0)).item()\n",
    "  pred_df.append({\"pred\": pred, \"label\": row[\"label\"].numpy(), \"osm_id\": row[\"bbox_id\"].numpy()})\n",
    "pred_df = pd.DataFrame(pred_df)"
   ],
   "execution_count": null,
   "outputs": []
  },
  {
   "cell_type": "code",
   "metadata": {
    "id": "jWMd4LOn5-8C"
   },
   "source": [
    "def plot_one_object(object_id):\n",
    "    filename = patches.loc[patches.osm_id==object_id, \"image_id\"].iloc[0]\n",
    "    img = tf.io.decode_png(tf.io.read_file(f\"data/images/{filename}.png\"))\n",
    "    bboxes = patches.loc[patches.osm_id==object_id, [\"y_min\", \"x_min\", \"y_max\", \"x_max\"]].values\n",
    "    crops = tf.image.crop_and_resize(\n",
    "        tf.expand_dims(img, axis=0), bboxes, box_indices=tf.zeros_like(bboxes[:, 0], dtype=tf.int32),\n",
    "        crop_size=[IMAGE_SIZE, IMAGE_SIZE], method='bilinear',\n",
    "        extrapolation_value=0, name=None\n",
    "    )\n",
    "    plt.imshow((crops[0].numpy()).astype(np.uint8))"
   ],
   "execution_count": null,
   "outputs": []
  },
  {
   "cell_type": "code",
   "metadata": {
    "colab": {
     "base_uri": "https://localhost:8080/",
     "height": 1000
    },
    "id": "IIWQGqgP8hzm",
    "outputId": "295c20e0-42c4-4372-fb09-87314cba6cf1"
   },
   "source": [
    "#@title Plot 10 images the model disagrees with: if we succeeded, this should be primarily mistagged OSM data\n",
    "for i, row in pred_df.nsmallest(10, \"pred\").iterrows():\n",
    "  plot_one_object(row.osm_id)\n",
    "  plt.title(f\"{row.pred:.3f}, {row.label}, {row.osm_id}\")\n",
    "  plt.show()"
   ],
   "execution_count": null,
   "outputs": []
  },
  {
   "cell_type": "code",
   "metadata": {
    "colab": {
     "base_uri": "https://localhost:8080/"
    },
    "id": "KYYidrEwyosd",
    "outputId": "4302aa81-8f94-4ca8-84a4-8c4c1219f054"
   },
   "source": [
    "#@title Complete the cross-val loop: train on the second half of objects, predict on the first\n",
    "model = get_model()\n",
    "model.fit(val_ds.map(to_tuple).shuffle(500).batch(BATCH_SIZE).prefetch(2), validation_data=train_ds.map(to_tuple).batch(BATCH_SIZE).prefetch(2), epochs=10)"
   ],
   "execution_count": null,
   "outputs": []
  },
  {
   "cell_type": "code",
   "metadata": {
    "id": "wXW9uOW0MmHo"
   },
   "source": [
    "pred_df2 = []\n",
    "for row in train_ds.take(-1):\n",
    "  if row[\"label\"].numpy() == 0:\n",
    "    continue\n",
    "  pred = model.predict(tf.expand_dims(row[\"image\"], axis=0)).item()\n",
    "  pred_df2.append({\"pred\": pred, \"label\": row[\"label\"].numpy(), \"osm_id\": row[\"bbox_id\"].numpy()})\n",
    "pred_df2 = pd.DataFrame(pred_df2)"
   ],
   "execution_count": null,
   "outputs": []
  },
  {
   "cell_type": "code",
   "metadata": {
    "id": "vLq9rqM-K9cC"
   },
   "source": [
    "df = pd.concat([\n",
    "  pred_df,\n",
    "  pred_df2\n",
    "])\n",
    "df[\"mislabel_score\"] = 1 - df[\"pred\"]\n",
    "df.to_csv(\"gs://osm-object-detector/chimneys/mislabel_scores.csv\")"
   ],
   "execution_count": null,
   "outputs": []
  },
  {
   "cell_type": "code",
   "metadata": {
    "colab": {
     "base_uri": "https://localhost:8080/",
     "height": 350,
     "referenced_widgets": [
      "d6ff37f2a7c04fda96ddebf22c0f5f60",
      "eed8d20cb4fd4ae1bbf8d23ef413b79d",
      "4f1d322056a941788ce26c4ca168d9d5",
      "9bafe669bd4d49e7acdb468bef3165ee",
      "b62ad8cc0e174b138ef1568c541bba64",
      "9a03b07932684a798182bedccf7f30b8",
      "491b5bbb329541848dd43c22f37d30a2",
      "69747a2f444d478c84bb6b18ad246468",
      "ed781c0f48f8408692929977ef889a5f",
      "4d9aadc22b01434ca87b01d33f2310f4",
      "0416d9e578954407b6142c765a6fd402",
      "008adf848bc944b48f82f822a8543095",
      "029f4e1f368a409bb8b1fc53769af4ef",
      "5d27f2078a4a4a1ba2ff262057f8a70f",
      "5255d9fe80844b3fae582b69adbd9e75",
      "b0f9607ad37e4e7b88bf281a0d348d06"
     ]
    },
    "id": "OaefYwjbdAnT",
    "outputId": "99975035-e184-48a6-b0d0-e3b4e09164a4"
   },
   "source": [
    "#@title Hand-label surprising objects\n",
    "\n",
    "!pip install -q pigeon-jupyter\n",
    "\n",
    "from pigeon import annotate\n",
    "\n",
    "def plot_and_show(x):\n",
    "    plot_one_object(x)\n",
    "    plt.show()\n",
    "\n",
    "annotations = annotate(\n",
    "  df.query(\"pred<0.5\").osm_id,\n",
    "  options=['correct', 'mistagged'],\n",
    "  display_fn=plot_and_show\n",
    ")"
   ],
   "execution_count": null,
   "outputs": []
  },
  {
   "cell_type": "code",
   "metadata": {
    "id": "rm-uxy_H3YwN"
   },
   "source": [
    "annotations = pd.DataFrame(annotations, columns=[\"osm_id\", \"status\"])\n",
    "annotations.to_csv(\"gs://osm-object-detector/chimneys/hand_labels.csv\")"
   ],
   "execution_count": null,
   "outputs": []
  },
  {
   "cell_type": "code",
   "metadata": {
    "id": "ZRnXARfH61rL"
   },
   "source": [
    "#@title Prune known mislabels and recreate dataset\n",
    "patches = patches[patches.osm_id.map(annotations.set_index(\"osm_id\")[\"status\"])!=\"mistagged\"]\n",
    "images_and_bboxes = get_base_dataset('data/images', patches)\n",
    "final_dataset = get_final_dataset(images_and_bboxes)\n",
    "\n",
    "# get size of dataset -- since we changed the number of rows dynamically we have to count them in full\n",
    "for i, _ in enumerate(final_dataset.take(-1)):\n",
    "    pass\n",
    "num_samples = i+1\n",
    "num_train_samples = int(num_samples*0.9)\n",
    "train_ds = final_dataset.take(num_train_samples)\n",
    "val_ds = final_dataset.skip(num_train_samples)"
   ],
   "execution_count": null,
   "outputs": []
  },
  {
   "cell_type": "code",
   "metadata": {
    "colab": {
     "base_uri": "https://localhost:8080/"
    },
    "id": "G6woZkitCmjx",
    "outputId": "7f8affd3-c1eb-46a0-9e81-3c179528a39c"
   },
   "source": [
    "#@title Train final model\n",
    "model = get_model()\n",
    "model.fit(train_ds.map(to_tuple).shuffle(500).batch(BATCH_SIZE).prefetch(2), validation_data=val_ds.map(to_tuple).batch(BATCH_SIZE).prefetch(2), epochs=10)"
   ],
   "execution_count": null,
   "outputs": []
  },
  {
   "cell_type": "code",
   "metadata": {
    "colab": {
     "base_uri": "https://localhost:8080/"
    },
    "id": "WliYPFogCuBp",
    "outputId": "99eebf8b-130c-4d6e-9611-cf9c0bda4bfd"
   },
   "source": [
    "model.save(\"gs://osm-object-detector/chimneys/model\")"
   ],
   "execution_count": null,
   "outputs": []
  },
  {
   "cell_type": "code",
   "metadata": {
    "colab": {
     "base_uri": "https://localhost:8080/",
     "height": 1000
    },
    "id": "ONMkjZVYCtLr",
    "outputId": "ed2be050-165c-4301-bf4f-ec94e195a6b3",
    "pycharm": {
     "name": "#%%\n"
    }
   },
   "source": [
    "#@title Bonus: Rudimentary object detection\n",
    "for img, _ in images_and_bboxes.skip(patches[\"image_id\"].nunique()-20).take(10):\n",
    "    images = []\n",
    "    fig, ax = plt.subplots(1+(1280//IMAGE_SIZE),1+(1280//IMAGE_SIZE),figsize=(20,20), sharex=True, sharey=True)\n",
    "    fig.tight_layout()\n",
    "\n",
    "    for i, x in enumerate(range(0, 1260, IMAGE_SIZE)):\n",
    "        for j, y in enumerate(range(0, 1260, IMAGE_SIZE)):\n",
    "            image = np.zeros((IMAGE_SIZE, IMAGE_SIZE, 3))\n",
    "            new_image = img.numpy()[y:y+IMAGE_SIZE, x:x+IMAGE_SIZE, :]\n",
    "            image[:new_image.shape[0], :new_image.shape[1], :] = new_image\n",
    "            pred = model.predict(tf.expand_dims(image, axis=0))[0][0]\n",
    "            if pred < 0.25:\n",
    "              image *= 0.25  # darken panels with no detections for emphasis\n",
    "            else:\n",
    "              image *= pred\n",
    "            ax[j][i].imshow(image.astype(np.uint8))\n",
    "            ax[j][i].set_title(pred)\n",
    "    plt.show()"
   ],
   "execution_count": null,
   "outputs": []
  }
 ]
}