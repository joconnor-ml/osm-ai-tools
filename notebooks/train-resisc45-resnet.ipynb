{
 "cells": [
  {
   "cell_type": "markdown",
   "source": [
    "[![Open In Colab](https://colab.research.google.com/assets/colab-badge.svg)](https://colab.research.google.com/github/joconnor-ml/osm-ai-tools/blob/master/notebooks/train_resisc45_resnet.ipynb)\n",
    "\n",
    "This notebook trains a Tensorflow 2 ResNet-50 model on the RESISC-45 aerial imagery classification dataset. The [TF-Hub model](https://tfhub.dev/google/remote_sensing/resisc45-resnet50/1) trained on this dataset is currently only in TF1 format, which does not allow for fine-tuning in TF2.\n",
    "\n",
    "The RESISC dataset has been shown to transfer well to other remote sensing datasets, see\n",
    "https://arxiv.org/abs/1911.06721. The linked paper forms the basis of the transfer-learning\n",
    "methodology used here.\n",
    "\n",
    "Manual download is required for the RESISC dataset, from [OneDrive](https://onedrive.live.com/?authkey=%21AHHNaHIlzp%5FIXjs&cid=5C5E061130630A68&id=5C5E061130630A68%21107&parId=5C5E061130630A68%21112&action=defaultclick)\n",
    "(click starts download).\n"
   ],
   "metadata": {
    "collapsed": false,
    "pycharm": {
     "name": "#%% md\n"
    }
   }
  },
  {
   "cell_type": "code",
   "execution_count": null,
   "outputs": [],
   "source": [
    "#@title Imports, Detect GPU\n",
    "import math\n",
    "import os\n",
    "\n",
    "import matplotlib.pyplot as plt\n",
    "import numpy as np\n",
    "import tensorflow as tf\n",
    "import tensorflow.keras as tfk\n",
    "\n",
    "# detect GPU -- a GPU-enabled colab is recommended\n",
    "device_name = tf.test.gpu_device_name()\n",
    "if device_name != '/device:GPU:0':\n",
    "    raise SystemError('GPU device not found')\n",
    "print('Found GPU at: {}'.format(device_name))"
   ],
   "metadata": {
    "collapsed": false,
    "pycharm": {
     "name": "#%%\n"
    }
   }
  },
  {
   "cell_type": "code",
   "execution_count": null,
   "metadata": {
    "colab": {
     "base_uri": "https://localhost:8080/",
     "height": 170
    },
    "colab_type": "code",
    "id": "b2wacugEGvRi",
    "outputId": "51e814e0-0346-45e0-f899-6c5cc9dfb03f"
   },
   "outputs": [],
   "source": [
    "# NB: RESISC-45 dataset requires manual download, see https://www.tensorflow.org/datasets/catalog/resisc45\n",
    "!unzip -q PATH/TO/resisc45.zip"
   ]
  },
  {
   "cell_type": "code",
   "execution_count": null,
   "metadata": {
    "colab": {},
    "colab_type": "code",
    "id": "OmA0VUKBuBp1"
   },
   "outputs": [],
   "source": [
    "_LABELS = [\n",
    "    'airplane', 'airport', 'baseball_diamond', 'basketball_court', 'beach',\n",
    "    'bridge', 'chaparral', 'church', 'circular_farmland', 'cloud',\n",
    "    'commercial_area', 'dense_residential', 'desert', 'forest', 'freeway',\n",
    "    'golf_course', 'ground_track_field', 'harbor', 'industrial_area',\n",
    "    'intersection', 'island', 'lake', 'meadow', 'medium_residential',\n",
    "    'mobile_home_park', 'mountain', 'overpass', 'palace', 'parking_lot',\n",
    "    'railway', 'railway_station', 'rectangular_farmland', 'river', 'roundabout',\n",
    "    'runway', 'sea_ice', 'ship', 'snowberg', 'sparse_residential', 'stadium',\n",
    "    'storage_tank', 'tennis_court', 'terrace', 'thermal_power_station',\n",
    "    'wetland'\n",
    "]\n",
    "\n",
    "table = tf.lookup.StaticHashTable(\n",
    "    tf.lookup.KeyValueTensorInitializer(_LABELS, range(len(_LABELS))),\n",
    "    default_value=-1\n",
    ")\n"
   ]
  },
  {
   "cell_type": "code",
   "execution_count": null,
   "metadata": {
    "colab": {
     "base_uri": "https://localhost:8080/",
     "height": 361
    },
    "colab_type": "code",
    "id": "8MjNvfSDzrwX",
    "outputId": "4e3df324-3c8c-449b-f9f6-45e67c968815"
   },
   "outputs": [],
   "source": [
    "def parse_image(filename):\n",
    "    # Reads an image from a file, decodes it into a dense tensor, and resizes it\n",
    "    # to a fixed shape.\n",
    "    parts = tf.strings.split(filename, os.sep)\n",
    "    label = parts[-2]\n",
    "\n",
    "    image = tf.io.read_file(filename)\n",
    "    image = tf.image.decode_jpeg(image)\n",
    "    image = tf.image.convert_image_dtype(image, tf.float32)\n",
    "    image = tf.image.resize(image, [256, 256]) * 255 - 127.5\n",
    "    return image, table.lookup(label)\n",
    "\n",
    "ds = tf.data.Dataset.list_files(\"NWPU-RESISC45/*/*\").shuffle(31500)\n",
    "test_ds = ds.take(6300).map(parse_image).batch(128).prefetch(tf.data.experimental.AUTOTUNE)\n",
    "train_ds = ds.skip(6300).map(parse_image).batch(128).prefetch(tf.data.experimental.AUTOTUNE)\n",
    "\n",
    "for image_batch, label_batch in train_ds.take(1):\n",
    "    pass"
   ]
  },
  {
   "cell_type": "code",
   "execution_count": null,
   "metadata": {
    "colab": {
     "base_uri": "https://localhost:8080/",
     "height": 286
    },
    "colab_type": "code",
    "id": "cSnehjEfvHoX",
    "outputId": "81e195a4-7d69-49a6-c2f3-2cceb1e9760d"
   },
   "outputs": [],
   "source": [
    "plt.hist(image_batch.numpy().flatten())"
   ]
  },
  {
   "cell_type": "code",
   "execution_count": null,
   "metadata": {
    "colab": {
     "base_uri": "https://localhost:8080/",
     "height": 1000
    },
    "colab_type": "code",
    "id": "Q0mNrEj6SQIx",
    "outputId": "b2fd0031-1674-45f1-f55d-40d471f700e2"
   },
   "outputs": [],
   "source": [
    "def plot_one(img):\n",
    "    plt.imshow((img+127.5).clip(0, 255).astype(np.uint8))\n",
    "\n",
    "i = 6\n",
    "print(F\"Label = {label_batch.numpy()[i]}\")\n",
    "plot_one(image_batch[i].numpy())"
   ]
  },
  {
   "cell_type": "code",
   "execution_count": null,
   "metadata": {
    "colab": {
     "base_uri": "https://localhost:8080/",
     "height": 105
    },
    "colab_type": "code",
    "id": "NOZ-RQOaawBU",
    "outputId": "1e306a37-e744-490c-8ad0-3d09296cd327"
   },
   "outputs": [],
   "source": [
    "with tf.device(device_name):\n",
    "    data_augmentation = tfk.Sequential([\n",
    "        tfk.layers.experimental.preprocessing.RandomFlip(),\n",
    "        tfk.layers.experimental.preprocessing.RandomContrast(0.1),\n",
    "        tfk.layers.experimental.preprocessing.Resizing(256,256),\n",
    "        tfk.layers.experimental.preprocessing.RandomTranslation(0.1, 0.1),\n",
    "        tfk.layers.experimental.preprocessing.RandomRotation(2*math.pi),\n",
    "        tfk.layers.experimental.preprocessing.CenterCrop(224,224),\n",
    "    ])\n",
    "\n",
    "    inputs = tfk.Input(shape=image_batch[0].shape)\n",
    "    augmented_model = data_augmentation(inputs)\n",
    "    base_model = tfk.applications.ResNet50(include_top=False, input_shape=(None, None, 3), weights=\"imagenet\")\n",
    "    base_model.trainable = True\n",
    "    base_model_out = base_model(augmented_model)\n",
    "    global_average_layer = tf.keras.layers.GlobalAveragePooling2D()(base_model_out)\n",
    "    prediction_layer = tf.keras.layers.Dense(45, activation='softmax')(global_average_layer)\n",
    "    final_model = tf.keras.models.Model(inputs=inputs, outputs=prediction_layer)\n",
    "\n",
    "opt = tfk.optimizers.SGD(\n",
    "    lr=1e-3, momentum=0.9\n",
    ")\n",
    "\n",
    "def scheduler(epoch):\n",
    "    if epoch < 5:\n",
    "        return (0.001 / 5) * (epoch+1)\n",
    "    elif epoch >= 5 and epoch < 20:\n",
    "        return 0.001\n",
    "    elif epoch >= 20 and epoch < 35:\n",
    "        return 0.0001\n",
    "    elif epoch >= 35 and epoch < 50:\n",
    "        return 0.00001\n",
    "    else:\n",
    "        return 0.000001\n",
    "\n",
    "callback = tf.keras.callbacks.LearningRateScheduler(scheduler)\n",
    "\n",
    "final_model.compile(optimizer=opt, loss=\"sparse_categorical_crossentropy\", metrics=['accuracy'])\n",
    "history = final_model.fit(train_ds, validation_data=test_ds, epochs=35, callbacks=[callback])"
   ]
  },
  {
   "cell_type": "code",
   "execution_count": null,
   "outputs": [],
   "source": [
    "# saves to local Colab workspace -- make sure to move it elsewhere!\n",
    "base_model.save(\"resisc_224px_rgb_resnet50\")"
   ],
   "metadata": {
    "collapsed": false,
    "pycharm": {
     "name": "#%%\n"
    }
   }
  },
  {
   "cell_type": "code",
   "execution_count": null,
   "metadata": {
    "colab": {},
    "colab_type": "code",
    "id": "sVIZPn6MdEGc"
   },
   "outputs": [],
   "source": []
  }
 ],
 "metadata": {
  "accelerator": "GPU",
  "colab": {
   "collapsed_sections": [],
   "name": "train_resisc45.ipynb",
   "provenance": []
  },
  "kernelspec": {
   "display_name": "Python 3",
   "language": "python",
   "name": "python3"
  },
  "language_info": {
   "codemirror_mode": {
    "name": "ipython",
    "version": 3
   },
   "file_extension": ".py",
   "mimetype": "text/x-python",
   "name": "python",
   "nbconvert_exporter": "python",
   "pygments_lexer": "ipython3",
   "version": "3.7.6"
  }
 },
 "nbformat": 4,
 "nbformat_minor": 4
}